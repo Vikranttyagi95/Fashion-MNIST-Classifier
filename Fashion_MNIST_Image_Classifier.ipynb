{
  "nbformat": 4,
  "nbformat_minor": 0,
  "metadata": {
    "colab": {
      "name": "Fashion MNIST Image Classifier.ipynb",
      "provenance": [],
      "collapsed_sections": [],
      "authorship_tag": "ABX9TyMMGRP/QEwfJAoDA6lQNzdg",
      "include_colab_link": true
    },
    "kernelspec": {
      "name": "python3",
      "display_name": "Python 3"
    }
  },
  "cells": [
    {
      "cell_type": "markdown",
      "metadata": {
        "id": "view-in-github",
        "colab_type": "text"
      },
      "source": [
        "<a href=\"https://colab.research.google.com/github/Vikranttyagi95/Fashion-MNIST-Classifier/blob/main/Fashion_MNIST_Image_Classifier.ipynb\" target=\"_parent\"><img src=\"https://colab.research.google.com/assets/colab-badge.svg\" alt=\"Open In Colab\"/></a>"
      ]
    },
    {
      "cell_type": "code",
      "metadata": {
        "id": "MUXwJQoT8ZoO"
      },
      "source": [
        "import pandas as pd\n",
        "import numpy as np\n",
        "import tensorflow as tf\n",
        "from tensorflow import keras\n",
        "import matplotlib.pyplot as plt\n",
        "%matplotlib inline"
      ],
      "execution_count": 1,
      "outputs": []
    },
    {
      "cell_type": "markdown",
      "metadata": {
        "id": "r0JJD2uZ9J_v"
      },
      "source": [
        "## Importing the dataset"
      ]
    },
    {
      "cell_type": "code",
      "metadata": {
        "colab": {
          "base_uri": "https://localhost:8080/"
        },
        "id": "q7LIVbOj85gK",
        "outputId": "9b094e75-4f50-4240-bc1b-5f97b5bfeef9"
      },
      "source": [
        "fmnist_data = keras.datasets.fashion_mnist\n",
        "(X_train_full, y_train_full), (X_test, y_test) = fmnist_data.load_data()"
      ],
      "execution_count": 2,
      "outputs": [
        {
          "output_type": "stream",
          "text": [
            "Downloading data from https://storage.googleapis.com/tensorflow/tf-keras-datasets/train-labels-idx1-ubyte.gz\n",
            "32768/29515 [=================================] - 0s 0us/step\n",
            "Downloading data from https://storage.googleapis.com/tensorflow/tf-keras-datasets/train-images-idx3-ubyte.gz\n",
            "26427392/26421880 [==============================] - 0s 0us/step\n",
            "Downloading data from https://storage.googleapis.com/tensorflow/tf-keras-datasets/t10k-labels-idx1-ubyte.gz\n",
            "8192/5148 [===============================================] - 0s 0us/step\n",
            "Downloading data from https://storage.googleapis.com/tensorflow/tf-keras-datasets/t10k-images-idx3-ubyte.gz\n",
            "4423680/4422102 [==============================] - 0s 0us/step\n"
          ],
          "name": "stdout"
        }
      ]
    },
    {
      "cell_type": "code",
      "metadata": {
        "colab": {
          "base_uri": "https://localhost:8080/"
        },
        "id": "lI5JOcqT9wS9",
        "outputId": "13f273da-55c2-4af9-be96-8f894e4a1c7b"
      },
      "source": [
        "print(X_train_full.shape)\n",
        "print(y_train_full)"
      ],
      "execution_count": 3,
      "outputs": [
        {
          "output_type": "stream",
          "text": [
            "(60000, 28, 28)\n",
            "[9 0 0 ... 3 0 5]\n"
          ],
          "name": "stdout"
        }
      ]
    },
    {
      "cell_type": "markdown",
      "metadata": {
        "id": "ORym5Zjb-_3k"
      },
      "source": [
        "## Creating a Validation Set"
      ]
    },
    {
      "cell_type": "code",
      "metadata": {
        "id": "Yag-I71C-Rvd"
      },
      "source": [
        "from sklearn.model_selection import train_test_split\n",
        "\n",
        "X_train, X_valid, y_train, y_valid = train_test_split(X_train_full, y_train_full, test_size=0.1, random_state=42)"
      ],
      "execution_count": 4,
      "outputs": []
    },
    {
      "cell_type": "code",
      "metadata": {
        "colab": {
          "base_uri": "https://localhost:8080/"
        },
        "id": "ZxgnBPwoH9v4",
        "outputId": "a7c47611-7530-4758-a33a-f27dd45eb403"
      },
      "source": [
        "X_train.shape"
      ],
      "execution_count": 12,
      "outputs": [
        {
          "output_type": "execute_result",
          "data": {
            "text/plain": [
              "(54000, 28, 28)"
            ]
          },
          "metadata": {
            "tags": []
          },
          "execution_count": 12
        }
      ]
    },
    {
      "cell_type": "markdown",
      "metadata": {
        "id": "m-0bZcfx_-3z"
      },
      "source": [
        "## Normalizing the input features"
      ]
    },
    {
      "cell_type": "code",
      "metadata": {
        "id": "eSxCrxl6_Sf8"
      },
      "source": [
        "X_train = X_train/255.0\n",
        "X_valid = X_valid/255.0\n",
        "X_test = X_test/255.0"
      ],
      "execution_count": 13,
      "outputs": []
    },
    {
      "cell_type": "markdown",
      "metadata": {
        "id": "kds2KqtFApeZ"
      },
      "source": [
        "## A peak at an output example"
      ]
    },
    {
      "cell_type": "code",
      "metadata": {
        "colab": {
          "base_uri": "https://localhost:8080/",
          "height": 248
        },
        "id": "hCNHNBuM_m-J",
        "outputId": "914cf790-6acc-49f3-d4ff-7618fbb2ac7d"
      },
      "source": [
        "plt.imshow(X_train[4], cmap='binary')\n",
        "plt.axis('off')\n",
        "plt.show()"
      ],
      "execution_count": 15,
      "outputs": [
        {
          "output_type": "display_data",
          "data": {
            "image/png": "[encoded data removed]",
            "text/plain": [
              "<Figure size 432x288 with 1 Axes>"
            ]
          },
          "metadata": {
            "tags": [],
            "needs_background": "light"
          }
        }
      ]
    },
    {
      "cell_type": "code",
      "metadata": {
        "colab": {
          "base_uri": "https://localhost:8080/"
        },
        "id": "5cnYemIbC78v",
        "outputId": "9224644b-e844-4faf-f3da-ba3c44e83a93"
      },
      "source": [
        "y_train[4]"
      ],
      "execution_count": 16,
      "outputs": [
        {
          "output_type": "execute_result",
          "data": {
            "text/plain": [
              "5"
            ]
          },
          "metadata": {
            "tags": []
          },
          "execution_count": 16
        }
      ]
    },
    {
      "cell_type": "code",
      "metadata": {
        "id": "DcvZ2MVvBLpp"
      },
      "source": [
        "class_names = [\"T-shirt/Top\",\"Trouser\",\"Pullover\",\"Dress\",\"Coat\",\"Sandal\",\"Shirt\",\"Sneaker\",\"Bag\",\"Ankle boot\"]"
      ],
      "execution_count": 17,
      "outputs": []
    },
    {
      "cell_type": "code",
      "metadata": {
        "colab": {
          "base_uri": "https://localhost:8080/",
          "height": 35
        },
        "id": "slW0CG1vB1Nm",
        "outputId": "3ec3fc40-54e4-4d60-8430-05936675e247"
      },
      "source": [
        "class_names[y_train[4]]"
      ],
      "execution_count": 18,
      "outputs": [
        {
          "output_type": "execute_result",
          "data": {
            "application/vnd.google.colaboratory.intrinsic+json": {
              "type": "string"
            },
            "text/plain": [
              "'Sandal'"
            ]
          },
          "metadata": {
            "tags": []
          },
          "execution_count": 18
        }
      ]
    },
    {
      "cell_type": "markdown",
      "metadata": {
        "id": "Q7tTvouADgLq"
      },
      "source": [
        "## Plotting Some example images"
      ]
    },
    {
      "cell_type": "code",
      "metadata": {
        "colab": {
          "base_uri": "https://localhost:8080/",
          "height": 249
        },
        "id": "mid4GPMRDHk7",
        "outputId": "f1688d33-0b2c-4dc8-8007-b8782942a140"
      },
      "source": [
        "n_rows = 2\n",
        "n_cols = 10\n",
        "\n",
        "plt.figure(figsize=(n_cols * 1.2, n_rows * 1.2))\n",
        "for row in range(n_rows):\n",
        "  for col in range(n_cols):\n",
        "    index = n_rows * row + col\n",
        "    plt.subplot(n_rows, n_cols, index+1)\n",
        "    plt.imshow(X_train[index], cmap='binary',interpolation='nearest')\n",
        "    plt.title(class_names[y_train[index]], fontsize=14)\n",
        "plt.subplots_adjust(wspace=0.2, hspace=0.5)\n",
        "plt.show()"
      ],
      "execution_count": 19,
      "outputs": [
        {
          "output_type": "stream",
          "text": [
            "/usr/local/lib/python3.6/dist-packages/ipykernel_launcher.py:8: MatplotlibDeprecationWarning: Adding an axes using the same arguments as a previous axes currently reuses the earlier instance.  In a future version, a new instance will always be created and returned.  Meanwhile, this warning can be suppressed, and the future behavior ensured, by passing a unique label to each axes instance.\n",
            "  \n"
          ],
          "name": "stderr"
        },
        {
          "output_type": "display_data",
          "data": {
            "image/png": "[encoded data removed]",
            "text/plain": [
              "<Figure size 864x172.8 with 12 Axes>"
            ]
          },
          "metadata": {
            "tags": [],
            "needs_background": "light"
          }
        }
      ]
    },
    {
      "cell_type": "markdown",
      "metadata": {
        "id": "YoxKND8rJIe4"
      },
      "source": [
        "## Creating a Model"
      ]
    },
    {
      "cell_type": "code",
      "metadata": {
        "id": "Zp7HIFugHtUF"
      },
      "source": [
        "model = keras.models.Sequential()\n",
        "model.add(keras.layers.Flatten(input_shape=[28,28]))\n",
        "model.add(keras.layers.Dense(200, activation=\"relu\"))\n",
        "model.add(keras.layers.Dense(150, activation=\"relu\"))\n",
        "model.add(keras.layers.Dense(10, activation=\"softmax\"))"
      ],
      "execution_count": 45,
      "outputs": []
    },
    {
      "cell_type": "code",
      "metadata": {
        "colab": {
          "base_uri": "https://localhost:8080/"
        },
        "id": "lSV841bFJxEk",
        "outputId": "afdaf889-5a1f-484a-cc57-66a7f3ed1761"
      },
      "source": [
        "model.summary()"
      ],
      "execution_count": 41,
      "outputs": [
        {
          "output_type": "stream",
          "text": [
            "Model: \"sequential_3\"\n",
            "_________________________________________________________________\n",
            "Layer (type)                 Output Shape              Param #   \n",
            "=================================================================\n",
            "flatten_3 (Flatten)          (None, 784)               0         \n",
            "_________________________________________________________________\n",
            "dense_9 (Dense)              (None, 200)               157000    \n",
            "_________________________________________________________________\n",
            "dense_10 (Dense)             (None, 150)               30150     \n",
            "_________________________________________________________________\n",
            "dense_11 (Dense)             (None, 10)                1510      \n",
            "=================================================================\n",
            "Total params: 188,660\n",
            "Trainable params: 188,660\n",
            "Non-trainable params: 0\n",
            "_________________________________________________________________\n"
          ],
          "name": "stdout"
        }
      ]
    },
    {
      "cell_type": "code",
      "metadata": {
        "id": "00-ecQAAJyiB"
      },
      "source": [
        "hidden1 = model.layers[1]"
      ],
      "execution_count": 31,
      "outputs": []
    },
    {
      "cell_type": "code",
      "metadata": {
        "id": "h57KtZu_KokR"
      },
      "source": [
        "weights, biases = hidden1.get_weights()"
      ],
      "execution_count": 32,
      "outputs": []
    },
    {
      "cell_type": "code",
      "metadata": {
        "colab": {
          "base_uri": "https://localhost:8080/"
        },
        "id": "aNcCRJnvKvIP",
        "outputId": "582f6934-578d-42fc-e7e7-d273d37598a8"
      },
      "source": [
        "weights"
      ],
      "execution_count": 24,
      "outputs": [
        {
          "output_type": "execute_result",
          "data": {
            "text/plain": [
              "array([[-0.05960592, -0.07205535, -0.01665654, ...,  0.00579741,\n",
              "        -0.05653534, -0.04993884],\n",
              "       [-0.04411693, -0.03453702, -0.05743594, ..., -0.07148175,\n",
              "         0.01706006,  0.02194314],\n",
              "       [-0.03655287,  0.01445751,  0.03926075, ...,  0.01798882,\n",
              "         0.05224365,  0.01507544],\n",
              "       ...,\n",
              "       [-0.00527821, -0.00618792,  0.01814166, ..., -0.0702503 ,\n",
              "        -0.06052341,  0.03341022],\n",
              "       [ 0.04255588, -0.03320312, -0.03200027, ...,  0.05406391,\n",
              "         0.00303581,  0.02141093],\n",
              "       [-0.03468017, -0.01301967, -0.047933  , ...,  0.0035255 ,\n",
              "        -0.06441922, -0.06285591]], dtype=float32)"
            ]
          },
          "metadata": {
            "tags": []
          },
          "execution_count": 24
        }
      ]
    },
    {
      "cell_type": "code",
      "metadata": {
        "id": "eb8TuoE8KxF-"
      },
      "source": [
        "model.compile(loss=\"sparse_categorical_crossentropy\",\n",
        "              optimizer=\"sgd\",\n",
        "              metrics=[\"accuracy\"])"
      ],
      "execution_count": 46,
      "outputs": []
    },
    {
      "cell_type": "code",
      "metadata": {
        "colab": {
          "base_uri": "https://localhost:8080/"
        },
        "id": "pkwy6_gPLFVj",
        "outputId": "36d6656f-62fa-4865-df86-2d23f5e25f69"
      },
      "source": [
        "history = model.fit(X_train, y_train, epochs=30, validation_data=(X_valid, y_valid))"
      ],
      "execution_count": 47,
      "outputs": [
        {
          "output_type": "stream",
          "text": [
            "Epoch 1/30\n",
            "1688/1688 [==============================] - 4s 2ms/step - loss: 0.7332 - accuracy: 0.7622 - val_loss: 0.5506 - val_accuracy: 0.8078\n",
            "Epoch 2/30\n",
            "1688/1688 [==============================] - 4s 2ms/step - loss: 0.4932 - accuracy: 0.8295 - val_loss: 0.4685 - val_accuracy: 0.8367\n",
            "Epoch 3/30\n",
            "1688/1688 [==============================] - 4s 2ms/step - loss: 0.4481 - accuracy: 0.8433 - val_loss: 0.4283 - val_accuracy: 0.8487\n",
            "Epoch 4/30\n",
            "1688/1688 [==============================] - 4s 2ms/step - loss: 0.4208 - accuracy: 0.8520 - val_loss: 0.4253 - val_accuracy: 0.8453\n",
            "Epoch 5/30\n",
            "1688/1688 [==============================] - 4s 2ms/step - loss: 0.4028 - accuracy: 0.8596 - val_loss: 0.4077 - val_accuracy: 0.8542\n",
            "Epoch 6/30\n",
            "1688/1688 [==============================] - 4s 2ms/step - loss: 0.3856 - accuracy: 0.8643 - val_loss: 0.3877 - val_accuracy: 0.8608\n",
            "Epoch 7/30\n",
            "1688/1688 [==============================] - 4s 2ms/step - loss: 0.3726 - accuracy: 0.8683 - val_loss: 0.4172 - val_accuracy: 0.8482\n",
            "Epoch 8/30\n",
            "1688/1688 [==============================] - 4s 2ms/step - loss: 0.3626 - accuracy: 0.8718 - val_loss: 0.3866 - val_accuracy: 0.8590\n",
            "Epoch 9/30\n",
            "1688/1688 [==============================] - 4s 2ms/step - loss: 0.3506 - accuracy: 0.8769 - val_loss: 0.3608 - val_accuracy: 0.8698\n",
            "Epoch 10/30\n",
            "1688/1688 [==============================] - 4s 2ms/step - loss: 0.3413 - accuracy: 0.8779 - val_loss: 0.3547 - val_accuracy: 0.8707\n",
            "Epoch 11/30\n",
            "1688/1688 [==============================] - 4s 2ms/step - loss: 0.3325 - accuracy: 0.8809 - val_loss: 0.3556 - val_accuracy: 0.8727\n",
            "Epoch 12/30\n",
            "1688/1688 [==============================] - 4s 2ms/step - loss: 0.3244 - accuracy: 0.8834 - val_loss: 0.3500 - val_accuracy: 0.8740\n",
            "Epoch 13/30\n",
            "1688/1688 [==============================] - 4s 2ms/step - loss: 0.3176 - accuracy: 0.8860 - val_loss: 0.3431 - val_accuracy: 0.8767\n",
            "Epoch 14/30\n",
            "1688/1688 [==============================] - 4s 2ms/step - loss: 0.3103 - accuracy: 0.8883 - val_loss: 0.3490 - val_accuracy: 0.8722\n",
            "Epoch 15/30\n",
            "1688/1688 [==============================] - 4s 2ms/step - loss: 0.3040 - accuracy: 0.8901 - val_loss: 0.3531 - val_accuracy: 0.8737\n",
            "Epoch 16/30\n",
            "1688/1688 [==============================] - 4s 2ms/step - loss: 0.2983 - accuracy: 0.8928 - val_loss: 0.3328 - val_accuracy: 0.8852\n",
            "Epoch 17/30\n",
            "1688/1688 [==============================] - 4s 2ms/step - loss: 0.2922 - accuracy: 0.8942 - val_loss: 0.3289 - val_accuracy: 0.8820\n",
            "Epoch 18/30\n",
            "1688/1688 [==============================] - 4s 2ms/step - loss: 0.2869 - accuracy: 0.8960 - val_loss: 0.3569 - val_accuracy: 0.8717\n",
            "Epoch 19/30\n",
            "1688/1688 [==============================] - 4s 2ms/step - loss: 0.2817 - accuracy: 0.8977 - val_loss: 0.3374 - val_accuracy: 0.8780\n",
            "Epoch 20/30\n",
            "1688/1688 [==============================] - 4s 2ms/step - loss: 0.2777 - accuracy: 0.9007 - val_loss: 0.3327 - val_accuracy: 0.8793\n",
            "Epoch 21/30\n",
            "1688/1688 [==============================] - 4s 2ms/step - loss: 0.2721 - accuracy: 0.9017 - val_loss: 0.3301 - val_accuracy: 0.8778\n",
            "Epoch 22/30\n",
            "1688/1688 [==============================] - 4s 2ms/step - loss: 0.2676 - accuracy: 0.9039 - val_loss: 0.3202 - val_accuracy: 0.8865\n",
            "Epoch 23/30\n",
            "1688/1688 [==============================] - 4s 2ms/step - loss: 0.2621 - accuracy: 0.9047 - val_loss: 0.3652 - val_accuracy: 0.8668\n",
            "Epoch 24/30\n",
            "1688/1688 [==============================] - 4s 2ms/step - loss: 0.2588 - accuracy: 0.9076 - val_loss: 0.4326 - val_accuracy: 0.8420\n",
            "Epoch 25/30\n",
            "1688/1688 [==============================] - 4s 2ms/step - loss: 0.2556 - accuracy: 0.9071 - val_loss: 0.3188 - val_accuracy: 0.8873\n",
            "Epoch 26/30\n",
            "1688/1688 [==============================] - 4s 2ms/step - loss: 0.2510 - accuracy: 0.9098 - val_loss: 0.3201 - val_accuracy: 0.8828\n",
            "Epoch 27/30\n",
            "1688/1688 [==============================] - 4s 2ms/step - loss: 0.2464 - accuracy: 0.9109 - val_loss: 0.3198 - val_accuracy: 0.8838\n",
            "Epoch 28/30\n",
            "1688/1688 [==============================] - 4s 2ms/step - loss: 0.2429 - accuracy: 0.9117 - val_loss: 0.3145 - val_accuracy: 0.8847\n",
            "Epoch 29/30\n",
            "1688/1688 [==============================] - 4s 2ms/step - loss: 0.2386 - accuracy: 0.9149 - val_loss: 0.3301 - val_accuracy: 0.8813\n",
            "Epoch 30/30\n",
            "1688/1688 [==============================] - 4s 2ms/step - loss: 0.2357 - accuracy: 0.9157 - val_loss: 0.3168 - val_accuracy: 0.8870\n"
          ],
          "name": "stdout"
        }
      ]
    },
    {
      "cell_type": "markdown",
      "metadata": {
        "id": "Dw44p-vsNtwa"
      },
      "source": [
        "## Plotting loss per iteration"
      ]
    },
    {
      "cell_type": "code",
      "metadata": {
        "colab": {
          "base_uri": "https://localhost:8080/",
          "height": 483
        },
        "id": "5hngUGQTLcJP",
        "outputId": "0a9dfecb-163b-4012-e535-569db5af8f79"
      },
      "source": [
        "plt.figure(figsize=(8,8))\n",
        "plt.plot(history.history['loss'], label='loss')\n",
        "plt.plot(history.history['val_loss'], label='val_loss')\n",
        "plt.legend()\n",
        "plt.show()"
      ],
      "execution_count": 48,
      "outputs": [
        {
          "output_type": "display_data",
          "data": {
            "image/png": "[encoded data removed]",
            "text/plain": [
              "<Figure size 576x576 with 1 Axes>"
            ]
          },
          "metadata": {
            "tags": [],
            "needs_background": "light"
          }
        }
      ]
    },
    {
      "cell_type": "markdown",
      "metadata": {
        "id": "osVhfhB1P9U4"
      },
      "source": [
        "## Plotting accuracy per iteration"
      ]
    },
    {
      "cell_type": "code",
      "metadata": {
        "id": "R1yyWv4ROJEG",
        "colab": {
          "base_uri": "https://localhost:8080/",
          "height": 483
        },
        "outputId": "72b02119-29e3-4427-eae8-5fbb4ef34ae7"
      },
      "source": [
        "plt.figure(figsize=(8,8))\n",
        "plt.plot(history.history['accuracy'], label='accuracy')\n",
        "plt.plot(history.history['val_accuracy'], label='val_accuracy')\n",
        "plt.legend()\n",
        "plt.show()"
      ],
      "execution_count": 49,
      "outputs": [
        {
          "output_type": "display_data",
          "data": {
            "image/png": "[encoded data removed]",
            "text/plain": [
              "<Figure size 576x576 with 1 Axes>"
            ]
          },
          "metadata": {
            "tags": [],
            "needs_background": "light"
          }
        }
      ]
    },
    {
      "cell_type": "markdown",
      "metadata": {
        "id": "F-uILWxWQWW1"
      },
      "source": [
        "# Evaluating the model on the test set"
      ]
    },
    {
      "cell_type": "code",
      "metadata": {
        "colab": {
          "base_uri": "https://localhost:8080/"
        },
        "id": "O19E4fUAQUBE",
        "outputId": "7a103480-97c5-403b-def4-d02654cbed2d"
      },
      "source": [
        "model.evaluate(X_test, y_test)"
      ],
      "execution_count": 50,
      "outputs": [
        {
          "output_type": "stream",
          "text": [
            "313/313 [==============================] - 0s 1ms/step - loss: 0.3439 - accuracy: 0.8785\n"
          ],
          "name": "stdout"
        },
        {
          "output_type": "execute_result",
          "data": {
            "text/plain": [
              "[0.34392815828323364, 0.8784999847412109]"
            ]
          },
          "metadata": {
            "tags": []
          },
          "execution_count": 50
        }
      ]
    },
    {
      "cell_type": "code",
      "metadata": {
        "colab": {
          "base_uri": "https://localhost:8080/"
        },
        "id": "nWkbFYVCQkHi",
        "outputId": "74438d19-1d1f-41cb-ed3f-c6538ec2948e"
      },
      "source": [
        "X_new = X_test[:3]\n",
        "y_prob = model.predict(X_new)\n",
        "y_prob.round(2)"
      ],
      "execution_count": 52,
      "outputs": [
        {
          "output_type": "execute_result",
          "data": {
            "text/plain": [
              "array([[0.  , 0.  , 0.  , 0.  , 0.  , 0.  , 0.  , 0.01, 0.  , 0.99],\n",
              "       [0.  , 0.  , 1.  , 0.  , 0.  , 0.  , 0.  , 0.  , 0.  , 0.  ],\n",
              "       [0.  , 1.  , 0.  , 0.  , 0.  , 0.  , 0.  , 0.  , 0.  , 0.  ]],\n",
              "      dtype=float32)"
            ]
          },
          "metadata": {
            "tags": []
          },
          "execution_count": 52
        }
      ]
    },
    {
      "cell_type": "code",
      "metadata": {
        "colab": {
          "base_uri": "https://localhost:8080/"
        },
        "id": "4NpV1tbiRKux",
        "outputId": "46bf27b4-1444-48c6-ddf3-63bf4fc2b52b"
      },
      "source": [
        "y_pred = model.predict_classes(X_new)\n",
        "y_pred"
      ],
      "execution_count": 54,
      "outputs": [
        {
          "output_type": "execute_result",
          "data": {
            "text/plain": [
              "array([9, 2, 1])"
            ]
          },
          "metadata": {
            "tags": []
          },
          "execution_count": 54
        }
      ]
    },
    {
      "cell_type": "code",
      "metadata": {
        "colab": {
          "base_uri": "https://localhost:8080/"
        },
        "id": "MU1XGMG2SNw4",
        "outputId": "e979823c-3511-4aef-fc4e-98b85d708d04"
      },
      "source": [
        "y_new = y_test[:3]\n",
        "y_new"
      ],
      "execution_count": 55,
      "outputs": [
        {
          "output_type": "execute_result",
          "data": {
            "text/plain": [
              "array([9, 2, 1], dtype=uint8)"
            ]
          },
          "metadata": {
            "tags": []
          },
          "execution_count": 55
        }
      ]
    },
    {
      "cell_type": "markdown",
      "metadata": {
        "id": "_fSFsrbHR3h1"
      },
      "source": [
        "# Plotting the predictions"
      ]
    },
    {
      "cell_type": "code",
      "metadata": {
        "colab": {
          "base_uri": "https://localhost:8080/",
          "height": 195
        },
        "id": "75XJ6lGtRbMf",
        "outputId": "f0639af7-2fc9-4e9f-dbeb-0915e06b1491"
      },
      "source": [
        "plt.figure(figsize=(8,8))\n",
        "for index, image in enumerate(X_new):\n",
        "    plt.subplot(1, 3, index+1)\n",
        "    plt.imshow(image, cmap='binary', interpolation='nearest')\n",
        "    plt.title(class_names[y_new[index]], fontsize=12)\n",
        "plt.subplots_adjust(wspace=0.2, hspace=0.5)\n",
        "plt.show()"
      ],
      "execution_count": 56,
      "outputs": [
        {
          "output_type": "display_data",
          "data": {
            "image/png": "[encoded data removed]",
            "text/plain": [
              "<Figure size 576x576 with 3 Axes>"
            ]
          },
          "metadata": {
            "tags": [],
            "needs_background": "light"
          }
        }
      ]
    },
    {
      "cell_type": "code",
      "metadata": {
        "id": "JmY5C4HVSVPI"
      },
      "source": [
        ""
      ],
      "execution_count": null,
      "outputs": []
    }
  ]
}